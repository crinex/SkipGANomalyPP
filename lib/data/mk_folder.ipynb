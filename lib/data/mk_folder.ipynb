{
 "cells": [
  {
   "cell_type": "code",
   "execution_count": 1,
   "metadata": {},
   "outputs": [],
   "source": [
    "import os\n",
    "import shutil"
   ]
  },
  {
   "cell_type": "code",
   "execution_count": 2,
   "metadata": {},
   "outputs": [
    {
     "ename": "FileNotFoundError",
     "evalue": "[WinError 3] 지정된 경로를 찾을 수 없습니다: '../../../test/'",
     "output_type": "error",
     "traceback": [
      "\u001b[1;31m---------------------------------------------------------------------------\u001b[0m",
      "\u001b[1;31mFileNotFoundError\u001b[0m                         Traceback (most recent call last)",
      "Input \u001b[1;32mIn [2]\u001b[0m, in \u001b[0;36m<cell line: 1>\u001b[1;34m()\u001b[0m\n\u001b[1;32m----> 1\u001b[0m \u001b[38;5;28mprint\u001b[39m(\u001b[43mos\u001b[49m\u001b[38;5;241;43m.\u001b[39;49m\u001b[43mlistdir\u001b[49m\u001b[43m(\u001b[49m\u001b[38;5;124;43m'\u001b[39;49m\u001b[38;5;124;43m../../../test/\u001b[39;49m\u001b[38;5;124;43m'\u001b[39;49m\u001b[43m)\u001b[49m)\n",
      "\u001b[1;31mFileNotFoundError\u001b[0m: [WinError 3] 지정된 경로를 찾을 수 없습니다: '../../../test/'"
     ]
    }
   ],
   "source": [
    "print(os.listdir('../../../test/'))"
   ]
  },
  {
   "cell_type": "code",
   "execution_count": 3,
   "metadata": {},
   "outputs": [],
   "source": [
    "def read_all_file(path):\n",
    "    output = os.listdir(path)\n",
    "    file_list = []\n",
    "\n",
    "    for i in output:\n",
    "        if os.path.isdir(path+\"/\"+i): \n",
    "            file_list.extend(read_all_file(path+\"/\"+i)) \n",
    "        elif os.path.isfile(path+\"/\"+i):\n",
    "            file_list.append(path+\"/\"+i)\n",
    "    return file_list"
   ]
  },
  {
   "cell_type": "code",
   "execution_count": 21,
   "metadata": {},
   "outputs": [],
   "source": [
    "def copy_all_file(file_list, new_path):\n",
    "    for src_path in file_list:\n",
    "        file = src_path.split(\"/\")[-1]\n",
    "        folder = src_path.split(\"/\")[-2]\n",
    "        #record_num = src_path.split(\"/\")[-1].split(\"_\")[0]\n",
    "        #print(folder + \"_\" + file)\n",
    "        shutil.copyfile(src_path, new_path+\"/\"+ folder + \"_\" + \"_\" + file)"
   ]
  },
  {
   "cell_type": "code",
   "execution_count": 22,
   "metadata": {},
   "outputs": [],
   "source": [
    "src_path = \"datasets/test2/S\" \n",
    "new_path = \"datasets/test/abnormal\" \n",
    "\n",
    "file_list = read_all_file(src_path)\n",
    "#print(file_list)\n",
    "copy_all_file(file_list, new_path)"
   ]
  },
  {
   "cell_type": "code",
   "execution_count": 23,
   "metadata": {},
   "outputs": [],
   "source": [
    "src_path = \"datasets/test2/V\" \n",
    "new_path = \"datasets/test/abnormal\" \n",
    "\n",
    "file_list = read_all_file(src_path)\n",
    "#print(file_list)\n",
    "copy_all_file(file_list, new_path)"
   ]
  },
  {
   "cell_type": "code",
   "execution_count": 24,
   "metadata": {},
   "outputs": [],
   "source": [
    "src_path = \"datasets/test2/F\" \n",
    "new_path = \"datasets/test/abnormal\" \n",
    "\n",
    "file_list = read_all_file(src_path)\n",
    "#print(file_list)\n",
    "copy_all_file(file_list, new_path)"
   ]
  },
  {
   "cell_type": "code",
   "execution_count": null,
   "metadata": {},
   "outputs": [],
   "source": []
  }
 ],
 "metadata": {
  "kernelspec": {
   "display_name": "Python 3 (ipykernel)",
   "language": "python",
   "name": "python3"
  },
  "language_info": {
   "codemirror_mode": {
    "name": "ipython",
    "version": 3
   },
   "file_extension": ".py",
   "mimetype": "text/x-python",
   "name": "python",
   "nbconvert_exporter": "python",
   "pygments_lexer": "ipython3",
   "version": "3.9.12"
  }
 },
 "nbformat": 4,
 "nbformat_minor": 2
}
